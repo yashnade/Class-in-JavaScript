{
  "nbformat": 4,
  "nbformat_minor": 0,
  "metadata": {
    "colab": {
      "provenance": []
    },
    "kernelspec": {
      "name": "python3",
      "display_name": "Python 3"
    },
    "language_info": {
      "name": "python"
    }
  },
  "cells": [
    {
      "cell_type": "markdown",
      "source": [
        "Q1.Problem Statement 1: Create a Constructor for a Person\n",
        "\n",
        "Write a JavaScript function constructor named Person that takes two parameters, name, and age, and Add a\n",
        "method to the prototype to display name and age. Then, create two instances of Person and display their\n",
        "names and ages."
      ],
      "metadata": {
        "id": "bh4mSM7CMCIl"
      }
    },
    {
      "cell_type": "code",
      "source": [
        "function person(name,age){\n",
        "    this.name = name;\n",
        "    this.age = age;\n",
        "\n",
        "}\n",
        "\n",
        "\n",
        "person.prototype.display = function(){\n",
        "    console.log(\"Name: \" + this.name + \", Age: \" + this.age);\n",
        "}\n",
        "\n",
        "\n",
        "const p=new person(\"John\", 30);\n",
        "const p1=new person(\"Alice\", 25);\n",
        "\n",
        "p.display();\n",
        "p1.display();"
      ],
      "metadata": {
        "id": "gJ-JlAv7MHF5"
      },
      "execution_count": null,
      "outputs": []
    },
    {
      "cell_type": "markdown",
      "source": [
        "Q2.Problem Statement 2: Implement a Bank Account\n",
        "\n",
        "Create a constructor function named BankAccount that initializes a bank account with an initial balance.\n",
        "Include methods for depositing and withdrawing money from the account. Write code to demonstrate these\n",
        "operations on a bank account object."
      ],
      "metadata": {
        "id": "0IIjVLPdNapG"
      }
    },
    {
      "cell_type": "code",
      "source": [
        "\n",
        "function Bank(initbalance){\n",
        "    this.balance= initbalance;\n",
        "}\n",
        "\n",
        "Bank.prototype.deposit= function(amount){\n",
        "    if(amount>0){\n",
        "        this.balance+=amount;\n",
        "\n",
        "    }\n",
        "    else{\n",
        "    console.log(\"Invalid deposit amount\");\n",
        "    }\n",
        "}\n",
        "\n",
        "Bank.prototype.withdraw=function(amount){\n",
        "\n",
        "    if(amount>0 && amount<=this.balance){\n",
        "        this.balance-= amount;\n",
        "    }\n",
        "    else{\n",
        "        console.log(\"Invalid withdraw amount\");\n",
        "    }\n",
        "}\n",
        "\n",
        "Bank.prototype.getbalance= function(){\n",
        "   console.log(\"Current Balance: \" + this.balance);\n",
        "}\n",
        "\n",
        "const myBank= new Bank(10000);\n",
        "myBank.getbalance();\n",
        "myBank.deposit(5000);\n",
        "myBank.getbalance();\n",
        "myBank.withdraw(2000);\n",
        "myBank.getbalance();\n"
      ],
      "metadata": {
        "id": "UTn3EBq-Nfvo"
      },
      "execution_count": null,
      "outputs": []
    },
    {
      "cell_type": "markdown",
      "source": [
        "Q3.Problem Statement 3: Create a Constructor for a Book\n",
        "\n",
        "Design a constructor function called Book that takes title and author as parameters. Add a method to the\n",
        "prototype of the Book that displays the book's information. Create at least two book instances and display their\n",
        "\n",
        "information"
      ],
      "metadata": {
        "id": "O8s4H2cnNtkb"
      }
    },
    {
      "cell_type": "code",
      "source": [
        "\n",
        "function Book(title,author){\n",
        "    this.title=title;\n",
        "    this.author=author;\n",
        "}\n",
        "\n",
        "Book.prototype.getinformation= function(){\n",
        "    console.log('Title:'+this.title +\" \"  + 'Author:'+ this.author);\n",
        "}\n",
        "\n",
        "const book1= new Book(\"The Great Gatsby\", \"F. Scott Fitzgerald\");\n",
        "const book2= new Book(\"Onepiece\", \"Eichiro Oda\");\n",
        "\n",
        "book1.getinformation();\n",
        "book2.getinformation();\n",
        "\n"
      ],
      "metadata": {
        "id": "14KV9-wmN245"
      },
      "execution_count": null,
      "outputs": []
    },
    {
      "cell_type": "markdown",
      "source": [
        "Q4.Problem Statement 4: Implement Task 1 using Class.\n",
        "\n",
        "Design a JavaScript class called Person with properties for name and age. Implement a method to display the\n",
        "person's name and age. Then, create instances of Person and display their information."
      ],
      "metadata": {
        "id": "6_spamWGN94-"
      }
    },
    {
      "cell_type": "code",
      "source": [
        "class person{\n",
        "    constructor(name,age){\n",
        "        this.name=name;\n",
        "        this.age=age;\n",
        "    }\n",
        "\n",
        "    display(){\n",
        "        console.log(\"Name: \" + this.name + \", Age: \" + this.age);\n",
        "    }\n",
        "}\n",
        "\n",
        "const p12= new person(\"Bob\", 28);\n",
        "p12.display();"
      ],
      "metadata": {
        "id": "IzsV6ErDODA4"
      },
      "execution_count": null,
      "outputs": []
    },
    {
      "cell_type": "markdown",
      "source": [
        "Q5.Problem Statement 5: Implement a Calculator Class\n",
        "\n",
        "Create a class called Calculator that initializes two values value1 and value2 to store numbers. Add methods for\n",
        "add, subtract, multiply, and divide. Perform and show operations."
      ],
      "metadata": {
        "id": "WA2IeE5dOPzW"
      }
    },
    {
      "cell_type": "code",
      "source": [
        "\n",
        "class calculator{\n",
        "    constructor(val1,val2){\n",
        "        this.val1=val1;\n",
        "        this.val2=val2;\n",
        "    }\n",
        "\n",
        "    add(){\n",
        "        let a= this.val1+this.val2;\n",
        "        console.log(\"Addition: \" + a);\n",
        "    }\n",
        "\n",
        "    subtract(){\n",
        "        let s= this.val1 - this.val2;\n",
        "        console.log(\"Subtraction: \" + s);\n",
        "    }\n",
        "\n",
        "    multiply(){\n",
        "        let m= this.val1*this.val2;\n",
        "        console.log(\"multiplication:\"+m);\n",
        "    }\n",
        "\n",
        "    divide(){\n",
        "        let d= this.val1/this.val2;\n",
        "        console.log(\"Division: \" + d);\n",
        "    }\n",
        "}\n",
        "\n",
        "const num1 =new calculator(8,4);\n",
        " console.log(num1);\n",
        "\n",
        " num1.add();\n",
        " num1.subtract();\n",
        " num1.multiply();\n",
        " num1.divide();"
      ],
      "metadata": {
        "id": "IkzDED8pOVJr"
      },
      "execution_count": null,
      "outputs": []
    },
    {
      "cell_type": "markdown",
      "source": [
        "Q6.Problem Statement 6: Design a Class for a Geometric Shape\n",
        "\n",
        "Design a class called Shape that can represent various geometric shapes. Implement subclasses for specific\n",
        "shapes like Circle, Rectangle, and RightTriangle. Each subclass should have properties of that shape (e.g..\n",
        "Width, height for a rectangle) and methods for calculating the area and perimeter of the shape. Create\n",
        "instances of these shapes and calculate their areas and perimeters."
      ],
      "metadata": {
        "id": "rRB3XqB3OaVm"
      }
    },
    {
      "cell_type": "code",
      "source": [
        "class shape{\n",
        "    constructor(name){\n",
        "        this.name=name;\n",
        "    }\n",
        "\n",
        "   area(){\n",
        "\n",
        "    throw new Error(\"Area method must be implemented by subclass\");\n",
        "\n",
        "   }\n",
        "\n",
        "   perimeter(){\n",
        "    throw new Error(\"Perimeter method must be implemented by subclass\");\n",
        "   }\n",
        "\n",
        "   display(){\n",
        "    console.log(`Shape: ${this.name}, Area: ${this.area()}, Perimeter: ${this.perimeter()}`);\n",
        "   }\n",
        "}\n",
        "\n",
        "\n",
        "\n",
        "class Circle extends shape {\n",
        "    constructor(radius){\n",
        "        super(\"Circle\");\n",
        "        this.radius=radius;\n",
        "\n",
        "    }\n",
        "\n",
        "    area(){\n",
        "        return Math.PI*this.radius*this.radius;\n",
        "    }\n",
        "\n",
        "    perimeter(){\n",
        "        return 2*Math.PI*this.radius;\n",
        "    }\n",
        "}\n",
        "\n",
        "const c= new Circle(5);\n",
        "c.display();\n",
        "\n",
        "class Rectangle extends shape{\n",
        "    constructor(length, width){\n",
        "        super(\"Rectangle\");\n",
        "        this.length=length;\n",
        "        this.width=width;\n",
        "    }\n",
        "\n",
        "    area(){\n",
        "        return this.length*this.width;\n",
        "    }\n",
        "\n",
        "    perimeter(){\n",
        "        return 2*(this.length+this.width);\n",
        "    }\n",
        "}\n",
        "\n",
        "const r= new Rectangle(4,6);\n",
        "r.display();\n",
        "\n",
        "class triangle extends shape{\n",
        "    constructor(base,height){\n",
        "        super(\"Triangle\");\n",
        "        this.base=base;\n",
        "        this.height=height;\n",
        "    }\n",
        "\n",
        "    area(){\n",
        "        return 0.5*this.base*this.height;\n",
        "    }\n",
        "\n",
        "    perimeter(){\n",
        "         const hypotenuse = Math.sqrt(this.base ** 2 + this.height ** 2);\n",
        "    return this.base + this.height + hypotenuse;\n",
        "    }\n",
        "}\n",
        "\n",
        "const t= new triangle(3,4);\n",
        "t.display();\n",
        "\n",
        "\n",
        "\n",
        "\n",
        "\n"
      ],
      "metadata": {
        "id": "muzUX2JPOfbB"
      },
      "execution_count": null,
      "outputs": []
    },
    {
      "cell_type": "markdown",
      "source": [
        "Q7.Problem Statement 7: Implement a Library System\n",
        "\n",
        "Create a class called Library that can manage a collection of books. Each book should be represented as an\n",
        "instance of a Book class (with properties like title, author, and availability). Implement methods in the Library\n",
        "class to add books, check out books, and return books. Keep track of the books available"
      ],
      "metadata": {
        "id": "orqlJZifO0MD"
      }
    },
    {
      "cell_type": "code",
      "source": [
        "\n",
        "class Book{\n",
        "  constructor(title,author){\n",
        "    this.author=author;\n",
        "    this.title=title;\n",
        "    this.isAvailable=true;\n",
        "\n",
        "  }\n",
        "\n",
        "  tostring(){\n",
        "      console.log(`Book: ${this.title}, Author: ${this.author}`);\n",
        "  }\n",
        "}\n",
        "\n",
        "\n",
        "class library{\n",
        "  constructor(){\n",
        "    this.book=[];\n",
        "  }\n",
        "\n",
        "  addbook(book){\n",
        "    this.book.push(book);\n",
        "  }\n",
        "\n",
        "\n",
        "  checkout(title){\n",
        "    const book=this.book.find(b=> b.title.toLowerCase()===title.toLowerCase() && b.isAvailable);\n",
        "\n",
        "    if(book){\n",
        "      book.isAvailable=false;\n",
        "      console.log(`You have checked out \"${book.title}\".`);\n",
        "    }\n",
        "    else{\n",
        "      console.log(`Sorry, \"${title}\" is not available.`);\n",
        "    }\n",
        "  }\n",
        "\n",
        "  return(title){\n",
        "    const book= this.book.find(b=>b.title.toLowerCase()=== title.toLowerCase() && !b.isAvailable);\n",
        "\n",
        "    if(book){\n",
        "      book.isAvailable=true;\n",
        "      console.log(`You have returned \"${book.title}\".`);\n",
        "    }\n",
        "    else{\n",
        "      console.log(`\"${title}\" was not checked out from this library.`);\n",
        "    }\n",
        "  }\n",
        "\n",
        "  showbooks(){\n",
        "    if(this.book.length===0){\n",
        "      console.log(\"No books in the library.\");\n",
        "    }\n",
        "    else{\n",
        "      console.log(\"Avialable Books Are:\");\n",
        "       this.book.forEach(book=>console.log(book.tostring()));\n",
        "    }\n",
        "  }\n",
        "\n",
        "}\n",
        "\n",
        "const Library = new library();\n",
        "\n",
        "// Create some books\n",
        "const book1 = new Book(\"The Alchemist\", \"Paulo Coelho\");\n",
        "const book2 = new Book(\"1984\", \"George Orwell\");\n",
        "const book3 = new Book(\"JavaScript Basics\", \"John Doe\");\n",
        "\n",
        "// Add books to library\n",
        "Library.addbook(book1);\n",
        "Library.addbook(book2);\n",
        "Library.addbook(book3);\n",
        "\n",
        "// Show library collection\n",
        "Library.showbooks();\n",
        "\n",
        "// Checkout a book\n",
        "Library.checkout(\"1984\");\n",
        "Library.showbooks();\n",
        "\n",
        "// Return a book\n",
        "Library.return(\"1984\");\n",
        "Library.showbooks();"
      ],
      "metadata": {
        "id": "PGT8F7_bO6wO"
      },
      "execution_count": null,
      "outputs": []
    }
  ]
}